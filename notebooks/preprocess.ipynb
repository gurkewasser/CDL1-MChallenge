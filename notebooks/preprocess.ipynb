{
 "cells": [
  {
   "cell_type": "code",
   "execution_count": 2,
   "id": "a10aeccd",
   "metadata": {},
   "outputs": [],
   "source": [
    "import pandas as pd\n",
    "import os\n",
    "import zipfile\n",
    "from pathlib import Path"
   ]
  },
  {
   "cell_type": "code",
   "execution_count": 5,
   "id": "c15a7750",
   "metadata": {},
   "outputs": [],
   "source": [
    "def extract_all_zips(input_dir: str, output_dir: str = None):\n",
    "    \"\"\"\n",
    "    Entpackt alle .zip-Dateien im Verzeichnis `input_dir`.\n",
    "    Falls `output_dir` angegeben ist, landen alle Unzips dort,\n",
    "    ansonsten jeweils in Unterordnern neben den ZIPs.\n",
    "    \"\"\"\n",
    "    input_dir = Path(input_dir)\n",
    "    for zip_path in input_dir.glob(\"*.zip\"):\n",
    "        # Create a folder named after the ZIP file inside the target root\n",
    "        target_root = Path(output_dir) if output_dir else zip_path.with_suffix('')\n",
    "        target_folder = target_root / zip_path.stem\n",
    "        target_folder.mkdir(parents=True, exist_ok=True)\n",
    "        \n",
    "        with zipfile.ZipFile(zip_path, 'r') as zf:\n",
    "            zf.extractall(target_folder)\n",
    "        print(f\"Entpackt {zip_path.name} → {target_folder}\")"
   ]
  },
  {
   "cell_type": "code",
   "execution_count": 6,
   "id": "60b2423f",
   "metadata": {},
   "outputs": [
    {
     "name": "stdout",
     "output_type": "stream",
     "text": [
      "Entpackt walking_11-2025-04-28_10-59-08.zip → ../data/unpacked/walking_11-2025-04-28_10-59-08\n",
      "Entpackt walking_8_9-2025-04-28_10-49-26.zip → ../data/unpacked/walking_8_9-2025-04-28_10-49-26\n",
      "Entpackt joggen_6-2025-04-28_09-53-25.zip → ../data/unpacked/joggen_6-2025-04-28_09-53-25\n",
      "Entpackt walking_14-2025-04-28_14-34-43.zip → ../data/unpacked/walking_14-2025-04-28_14-34-43\n",
      "Entpackt joggen_11-2025-04-28_10-18-57.zip → ../data/unpacked/joggen_11-2025-04-28_10-18-57\n",
      "Entpackt joggen_15-2025-04-28_10-42-02.zip → ../data/unpacked/joggen_15-2025-04-28_10-42-02\n",
      "Entpackt joggen_8-2025-04-28_10-03-31.zip → ../data/unpacked/joggen_8-2025-04-28_10-03-31\n",
      "Entpackt walking_2-2025-04-28_09-21-14.zip → ../data/unpacked/walking_2-2025-04-28_09-21-14\n",
      "Entpackt walking_13-2025-04-28_14-31-02.zip → ../data/unpacked/walking_13-2025-04-28_14-31-02\n",
      "Entpackt joggen_10-2025-04-28_10-13-04.zip → ../data/unpacked/joggen_10-2025-04-28_10-13-04\n",
      "Entpackt joggen_3-2025-04-28_09-41-37.zip → ../data/unpacked/joggen_3-2025-04-28_09-41-37\n",
      "Entpackt joggen_4-2025-04-28_09-44-58.zip → ../data/unpacked/joggen_4-2025-04-28_09-44-58\n",
      "Entpackt walking_7-2025-04-28_10-45-50.zip → ../data/unpacked/walking_7-2025-04-28_10-45-50\n",
      "Entpackt joggen_1-2025-04-27_17-01-13.zip → ../data/unpacked/joggen_1-2025-04-27_17-01-13\n",
      "Entpackt walking_4-2025-04-28_09-27-59.zip → ../data/unpacked/walking_4-2025-04-28_09-27-59\n",
      "Entpackt walking_6-2025-04-28_09-34-38.zip → ../data/unpacked/walking_6-2025-04-28_09-34-38\n",
      "Entpackt joggen_2-2025-04-27_17-11-49.zip → ../data/unpacked/joggen_2-2025-04-27_17-11-49\n",
      "Entpackt joggen_14-2025-04-28_10-37-05.zip → ../data/unpacked/joggen_14-2025-04-28_10-37-05\n",
      "Entpackt walking_1-2025-04-28_09-17-09.zip → ../data/unpacked/walking_1-2025-04-28_09-17-09\n",
      "Entpackt joggen_13-2025-04-28_10-28-55.zip → ../data/unpacked/joggen_13-2025-04-28_10-28-55\n",
      "Entpackt joggen_7-2025-04-28_09-57-23.zip → ../data/unpacked/joggen_7-2025-04-28_09-57-23\n",
      "Entpackt walking_10-2025-04-28_10-55-50.zip → ../data/unpacked/walking_10-2025-04-28_10-55-50\n",
      "Entpackt joggen_12-2025-04-28_10-23-19.zip → ../data/unpacked/joggen_12-2025-04-28_10-23-19\n",
      "Entpackt walking_15-2025-04-28_14-39-01.zip → ../data/unpacked/walking_15-2025-04-28_14-39-01\n",
      "Entpackt joggen_9-2025-04-28_10-09-54.zip → ../data/unpacked/joggen_9-2025-04-28_10-09-54\n",
      "Entpackt joggen_5-2025-04-28_09-48-44.zip → ../data/unpacked/joggen_5-2025-04-28_09-48-44\n",
      "Entpackt walking_5-2025-04-28_09-31-25.zip → ../data/unpacked/walking_5-2025-04-28_09-31-25\n",
      "Entpackt walking_12-2025-04-28_14-27-49.zip → ../data/unpacked/walking_12-2025-04-28_14-27-49\n",
      "Entpackt walking_3-2025-04-28_09-24-37.zip → ../data/unpacked/walking_3-2025-04-28_09-24-37\n"
     ]
    }
   ],
   "source": [
    "extract_all_zips(\"../data/raw\", output_dir=\"../data/unpacked\")"
   ]
  },
  {
   "cell_type": "code",
   "execution_count": null,
   "id": "77389e54",
   "metadata": {},
   "outputs": [],
   "source": []
  }
 ],
 "metadata": {
  "kernelspec": {
   "display_name": "cdl1",
   "language": "python",
   "name": "python3"
  },
  "language_info": {
   "codemirror_mode": {
    "name": "ipython",
    "version": 3
   },
   "file_extension": ".py",
   "mimetype": "text/x-python",
   "name": "python",
   "nbconvert_exporter": "python",
   "pygments_lexer": "ipython3",
   "version": "3.10.13"
  }
 },
 "nbformat": 4,
 "nbformat_minor": 5
}
