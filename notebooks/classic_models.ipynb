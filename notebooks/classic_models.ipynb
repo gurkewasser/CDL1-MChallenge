{
 "cells": [
  {
   "cell_type": "markdown",
   "metadata": {},
   "source": [
    "## Klassifikation menschlicher Aktivitäten mittels klassischer Machine-Learning-Modelle\n",
    "**Sensor-Based Activity Recognition (Walk, Run & Sitting)**"
   ]
  },
  {
   "cell_type": "markdown",
   "metadata": {},
   "source": [
    "In diesem Part dieses Projekts werden klassische Machine-Learning-Modelle auf sensorbasierten Zeitreihendaten angewandt, um menschliche Aktivitäten – konkret: Gehen (walk), Laufen (run) und Ruhe (sitting) – zu klassifizieren. \n",
    "\n",
    "Die ausgewählten Algorithmen sind:\n",
    "\n",
    "- Random Forest\n",
    "- Support Vector Machine (SVM)\n",
    "- K-Nearest Neighbors (KNN)\n",
    "\n",
    "Ziel dieser Analyse ist es, die drei Modelle anhand strukturierter Metriken (Accuracy, Precision, Recall, F1-Score) zu vergleichen und mindestens 90 % Genauigkeit zu erreichen."
   ]
  },
  {
   "cell_type": "markdown",
   "metadata": {},
   "source": [
    "### Teil 1: Vorbereitung\n",
    "\n",
    "Im ersten Schritt bereite ich die Daten für das Trainieren unserer Modelle vor. Ziel ist es, eine saubere und konsistente Eingabematrix für die Klassifikation zu erzeugen. Dazu zählen das Einlesen der vorverarbeiteten Zeitfensterdaten, die Aufteilung in Trainings- und Testdatensatz sowie eine Standardisierung der Eingabefeatures. Zustätzlich befinden sich in diesem Teil alle imports für dieses Notebook."
   ]
  },
  {
   "cell_type": "code",
   "execution_count": 7,
   "metadata": {},
   "outputs": [
    {
     "name": "stdout",
     "output_type": "stream",
     "text": [
      "hoi\n"
     ]
    }
   ],
   "source": [
    "import sys\n",
    "import os\n",
    "import pandas as pd\n",
    "import rootutils\n",
    "import numpy as np\n",
    "\n",
    "np.random.seed(123)\n",
    "\n",
    "root = rootutils.setup_root(search_from=\".\", indicator=\".git\")\n",
    "\n",
    "DATA_DIR = root / \"data\" / \"processed\"\n",
    "\n",
    "sys.path.append(os.path.abspath(os.path.join(os.getcwd(), '..', 'src')))\n",
    "import utils\n",
    "\n",
    "utils.test()"
   ]
  },
  {
   "cell_type": "code",
   "execution_count": 8,
   "metadata": {},
   "outputs": [
    {
     "data": {
      "text/html": [
       "<div>\n",
       "<style scoped>\n",
       "    .dataframe tbody tr th:only-of-type {\n",
       "        vertical-align: middle;\n",
       "    }\n",
       "\n",
       "    .dataframe tbody tr th {\n",
       "        vertical-align: top;\n",
       "    }\n",
       "\n",
       "    .dataframe thead th {\n",
       "        text-align: right;\n",
       "    }\n",
       "</style>\n",
       "<table border=\"1\" class=\"dataframe\">\n",
       "  <thead>\n",
       "    <tr style=\"text-align: right;\">\n",
       "      <th></th>\n",
       "      <th>seconds_elapsed</th>\n",
       "      <th>accelerometer_x</th>\n",
       "      <th>accelerometer_y</th>\n",
       "      <th>accelerometer_z</th>\n",
       "      <th>magnetometer_x</th>\n",
       "      <th>magnetometer_y</th>\n",
       "      <th>magnetometer_z</th>\n",
       "      <th>gravity_x</th>\n",
       "      <th>gravity_y</th>\n",
       "      <th>gravity_z</th>\n",
       "      <th>...</th>\n",
       "      <th>orientation_qw</th>\n",
       "      <th>orientation_qx</th>\n",
       "      <th>orientation_qy</th>\n",
       "      <th>orientation_qz</th>\n",
       "      <th>time</th>\n",
       "      <th>label</th>\n",
       "      <th>device_id</th>\n",
       "      <th>device_name</th>\n",
       "      <th>app_version</th>\n",
       "      <th>file_hash</th>\n",
       "    </tr>\n",
       "  </thead>\n",
       "  <tbody>\n",
       "    <tr>\n",
       "      <th>0</th>\n",
       "      <td>0.022370</td>\n",
       "      <td>-0.432967</td>\n",
       "      <td>0.598157</td>\n",
       "      <td>4.065942</td>\n",
       "      <td>1.801407</td>\n",
       "      <td>-44.226410</td>\n",
       "      <td>-18.697205</td>\n",
       "      <td>1.637250</td>\n",
       "      <td>-6.414271</td>\n",
       "      <td>-7.235117</td>\n",
       "      <td>...</td>\n",
       "      <td>0.614065</td>\n",
       "      <td>0.163750</td>\n",
       "      <td>0.322952</td>\n",
       "      <td>0.701293</td>\n",
       "      <td>2025-04-28 14:39:01.923370200</td>\n",
       "      <td>walking</td>\n",
       "      <td>0e7f697a-d191-469a-868d-042cd16e8d3c</td>\n",
       "      <td>iPhone 15</td>\n",
       "      <td>1.43.2</td>\n",
       "      <td>d9a7ba2240ba685dac3a53a569c32f82</td>\n",
       "    </tr>\n",
       "    <tr>\n",
       "      <th>1</th>\n",
       "      <td>0.032353</td>\n",
       "      <td>-0.586449</td>\n",
       "      <td>0.535537</td>\n",
       "      <td>3.797936</td>\n",
       "      <td>1.828110</td>\n",
       "      <td>-44.185791</td>\n",
       "      <td>-18.766083</td>\n",
       "      <td>1.639599</td>\n",
       "      <td>-6.354793</td>\n",
       "      <td>-7.286886</td>\n",
       "      <td>...</td>\n",
       "      <td>0.616501</td>\n",
       "      <td>0.161951</td>\n",
       "      <td>0.319756</td>\n",
       "      <td>0.701038</td>\n",
       "      <td>2025-04-28 14:39:01.933353200</td>\n",
       "      <td>walking</td>\n",
       "      <td>0e7f697a-d191-469a-868d-042cd16e8d3c</td>\n",
       "      <td>iPhone 15</td>\n",
       "      <td>1.43.2</td>\n",
       "      <td>d9a7ba2240ba685dac3a53a569c32f82</td>\n",
       "    </tr>\n",
       "  </tbody>\n",
       "</table>\n",
       "<p>2 rows × 26 columns</p>\n",
       "</div>"
      ],
      "text/plain": [
       "   seconds_elapsed  accelerometer_x  accelerometer_y  accelerometer_z  \\\n",
       "0         0.022370        -0.432967         0.598157         4.065942   \n",
       "1         0.032353        -0.586449         0.535537         3.797936   \n",
       "\n",
       "   magnetometer_x  magnetometer_y  magnetometer_z  gravity_x  gravity_y  \\\n",
       "0        1.801407      -44.226410      -18.697205   1.637250  -6.414271   \n",
       "1        1.828110      -44.185791      -18.766083   1.639599  -6.354793   \n",
       "\n",
       "   gravity_z  ...  orientation_qw  orientation_qx  orientation_qy  \\\n",
       "0  -7.235117  ...        0.614065        0.163750        0.322952   \n",
       "1  -7.286886  ...        0.616501        0.161951        0.319756   \n",
       "\n",
       "   orientation_qz                          time    label  \\\n",
       "0        0.701293 2025-04-28 14:39:01.923370200  walking   \n",
       "1        0.701038 2025-04-28 14:39:01.933353200  walking   \n",
       "\n",
       "                              device_id  device_name  app_version  \\\n",
       "0  0e7f697a-d191-469a-868d-042cd16e8d3c    iPhone 15       1.43.2   \n",
       "1  0e7f697a-d191-469a-868d-042cd16e8d3c    iPhone 15       1.43.2   \n",
       "\n",
       "                          file_hash  \n",
       "0  d9a7ba2240ba685dac3a53a569c32f82  \n",
       "1  d9a7ba2240ba685dac3a53a569c32f82  \n",
       "\n",
       "[2 rows x 26 columns]"
      ]
     },
     "execution_count": 8,
     "metadata": {},
     "output_type": "execute_result"
    }
   ],
   "source": [
    "df = pd.read_parquet(DATA_DIR / \"raw_data.parquet\")\n",
    "df.head(2)"
   ]
  },
  {
   "cell_type": "code",
   "execution_count": null,
   "metadata": {},
   "outputs": [],
   "source": []
  }
 ],
 "metadata": {
  "kernelspec": {
   "display_name": "CDL1",
   "language": "python",
   "name": "python3"
  },
  "language_info": {
   "codemirror_mode": {
    "name": "ipython",
    "version": 3
   },
   "file_extension": ".py",
   "mimetype": "text/x-python",
   "name": "python",
   "nbconvert_exporter": "python",
   "pygments_lexer": "ipython3",
   "version": "3.10.13"
  }
 },
 "nbformat": 4,
 "nbformat_minor": 2
}
